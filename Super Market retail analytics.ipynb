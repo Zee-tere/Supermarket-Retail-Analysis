{
 "cells": [
  {
   "cell_type": "markdown",
   "id": "64654479",
   "metadata": {},
   "source": [
    "## Super Market Retail Analysis"
   ]
  },
  {
   "cell_type": "markdown",
   "id": "245ad84d",
   "metadata": {},
   "source": [
    "### Dataset\n",
    "\n",
    "The dataset is a fictional dataset created for helping data analysts practice exploratory data analysis and data visualization. The dataset has data on orders placed by customers on a grocery delivery application and includes details like the order ID, customer name, category, discount and profit made. The dataset is designed with an assumption that the orders are placed by customers living in the state of Tamil Nadu, India.\n",
    "\n",
    "\n",
    "The analysis and visualization will be done in Excel and Tableau but some rudimentary operations to clean the dataset will be done here in with python"
   ]
  },
  {
   "cell_type": "markdown",
   "id": "73d7fb47",
   "metadata": {},
   "source": [
    "### Importing necessary Packages"
   ]
  },
  {
   "cell_type": "code",
   "execution_count": 1,
   "id": "3168d25e",
   "metadata": {},
   "outputs": [],
   "source": [
    "#Import Pandas to be able to perform the cleaning function\n",
    "import pandas as pd "
   ]
  },
  {
   "cell_type": "markdown",
   "id": "ab3eb410",
   "metadata": {},
   "source": [
    "### Data Gathering"
   ]
  },
  {
   "cell_type": "code",
   "execution_count": 2,
   "id": "1024afb9",
   "metadata": {},
   "outputs": [],
   "source": [
    "#import dataset already saved in local machine \n",
    "retail_sales = pd.read_csv(r\"C:\\Users\\FORTUNE\\Documents\\Datasets\\Supermart Grocery Sales - Retail Analytics Dataset.csv\")"
   ]
  },
  {
   "cell_type": "code",
   "execution_count": 3,
   "id": "d997e496",
   "metadata": {},
   "outputs": [
    {
     "name": "stdout",
     "output_type": "stream",
     "text": [
      "  Order ID Customer Name          Category      Sub Category            City  \\\n",
      "0      OD1        Harish      Oil & Masala           Masalas         Vellore   \n",
      "1      OD2         Sudha         Beverages     Health Drinks     Krishnagiri   \n",
      "2      OD3       Hussain       Food Grains      Atta & Flour      Perambalur   \n",
      "3      OD4       Jackson  Fruits & Veggies  Fresh Vegetables      Dharmapuri   \n",
      "4      OD5       Ridhesh       Food Grains   Organic Staples            Ooty   \n",
      "5      OD6        Adavan       Food Grains   Organic Staples      Dharmapuri   \n",
      "6      OD7         Jonas  Fruits & Veggies  Fresh Vegetables          Trichy   \n",
      "7      OD8         Hafiz  Fruits & Veggies      Fresh Fruits  Ramanadhapuram   \n",
      "8      OD9         Hafiz            Bakery          Biscuits     Tirunelveli   \n",
      "9     OD10      Krithika            Bakery             Cakes         Chennai   \n",
      "\n",
      "   Order Date Region  Sales  Discount  Profit       State  \n",
      "0  11-08-2017  North   1254      0.12  401.28  Tamil Nadu  \n",
      "1  11-08-2017  South    749      0.18  149.80  Tamil Nadu  \n",
      "2  06-12-2017   West   2360      0.21  165.20  Tamil Nadu  \n",
      "3  10-11-2016  South    896      0.25   89.60  Tamil Nadu  \n",
      "4  10-11-2016  South   2355      0.26  918.45  Tamil Nadu  \n",
      "5  06-09-2015   West   2305      0.26  322.70  Tamil Nadu  \n",
      "6  06-09-2015   West    826      0.33  346.92  Tamil Nadu  \n",
      "7  06-09-2015   West   1847      0.32  147.76  Tamil Nadu  \n",
      "8  06-09-2015   West    791      0.23  181.93  Tamil Nadu  \n",
      "9  06-09-2015   West   1795      0.27  484.65  Tamil Nadu  \n",
      "<class 'pandas.core.frame.DataFrame'>\n",
      "RangeIndex: 9994 entries, 0 to 9993\n",
      "Data columns (total 11 columns):\n",
      " #   Column         Non-Null Count  Dtype  \n",
      "---  ------         --------------  -----  \n",
      " 0   Order ID       9994 non-null   object \n",
      " 1   Customer Name  9994 non-null   object \n",
      " 2   Category       9994 non-null   object \n",
      " 3   Sub Category   9994 non-null   object \n",
      " 4   City           9994 non-null   object \n",
      " 5   Order Date     9994 non-null   object \n",
      " 6   Region         9994 non-null   object \n",
      " 7   Sales          9994 non-null   int64  \n",
      " 8   Discount       9994 non-null   float64\n",
      " 9   Profit         9994 non-null   float64\n",
      " 10  State          9994 non-null   object \n",
      "dtypes: float64(2), int64(1), object(8)\n",
      "memory usage: 859.0+ KB\n",
      "None\n",
      "             Sales     Discount       Profit\n",
      "count  9994.000000  9994.000000  9994.000000\n",
      "mean   1496.596158     0.226817   374.937082\n",
      "std     577.559036     0.074636   239.932881\n",
      "min     500.000000     0.100000    25.250000\n",
      "25%    1000.000000     0.160000   180.022500\n",
      "50%    1498.000000     0.230000   320.780000\n",
      "75%    1994.750000     0.290000   525.627500\n",
      "max    2500.000000     0.350000  1120.950000\n"
     ]
    }
   ],
   "source": [
    "#examine the basic structure and components of the data\n",
    "print(retail_sales.head(10))\n",
    "print (retail_sales.info())\n",
    "print (retail_sales.describe())"
   ]
  },
  {
   "cell_type": "markdown",
   "id": "6f628018",
   "metadata": {},
   "source": [
    "### Data Cleaning"
   ]
  },
  {
   "cell_type": "markdown",
   "id": "58f9d7e0",
   "metadata": {},
   "source": [
    "#### Tidyness issues\n",
    "- \"State\" Column unnecessary.\n",
    "- Data in \"Order Date\" cannot be used to analyze trends.\n",
    "\n",
    "###### Define\n",
    "- Remove State Column.\n",
    "- Convert data in \"Order Dates\" to datetime.\n",
    "- Separate data in \"Order Dates\" into different columns"
   ]
  },
  {
   "cell_type": "markdown",
   "id": "9df3a993",
   "metadata": {},
   "source": [
    "###### Code"
   ]
  },
  {
   "cell_type": "code",
   "execution_count": 4,
   "id": "6e2c21e3",
   "metadata": {},
   "outputs": [],
   "source": [
    "#copy dataset before cleaning\n",
    "df = retail_sales.copy()"
   ]
  },
  {
   "cell_type": "code",
   "execution_count": 5,
   "id": "88684ac4",
   "metadata": {},
   "outputs": [],
   "source": [
    "#drop \"State\" column\n",
    "df.drop(\"State\", axis = 1, inplace = True)"
   ]
  },
  {
   "cell_type": "code",
   "execution_count": 6,
   "id": "6ff2ef67",
   "metadata": {},
   "outputs": [],
   "source": [
    "#convert order dates to timestamp\n",
    "df[\"Order Date\"] = pd.to_datetime(df[\"Order Date\"] )"
   ]
  },
  {
   "cell_type": "code",
   "execution_count": 7,
   "id": "0e64d676",
   "metadata": {},
   "outputs": [],
   "source": [
    "#separate year, month and weekday to help in analysis\n",
    "df['Year'] = pd.DatetimeIndex(df[\"Order Date\"]).year\n",
    "df[\"Months\"] =pd.DatetimeIndex(df[\"Order Date\"]).month\n",
    "df[\"Weekday\"] =pd.DatetimeIndex(df[\"Order Date\"]).weekday"
   ]
  },
  {
   "cell_type": "code",
   "execution_count": 8,
   "id": "492009ae",
   "metadata": {},
   "outputs": [],
   "source": [
    "#replace numbers with text to aid visualization\n",
    "df.replace({\"Months\": { 1: \"January\", 2: \"February\", 3: \"March\", 4: \"April\", 5: \"May\", 6: \"June\", 7: \"July\", 8: \"August\", 9: \"September\", 10: \"October\", 11: \"November\" , 12 : \"December\"}}, inplace = True)\n",
    "df.replace({\"Weekday\": { 0: \"Monday\", 1: \"Tuesday\", 2: \"Wednesday\", 3: \"Thursday\", 4: \"Friday\", 5: \"Saturday\", 6: \"Sunday\"}}, inplace = True)"
   ]
  },
  {
   "cell_type": "markdown",
   "id": "fbb2e629",
   "metadata": {},
   "source": [
    "###### Test"
   ]
  },
  {
   "cell_type": "code",
   "execution_count": 9,
   "id": "d3d03052",
   "metadata": {},
   "outputs": [
    {
     "data": {
      "text/html": [
       "<div>\n",
       "<style scoped>\n",
       "    .dataframe tbody tr th:only-of-type {\n",
       "        vertical-align: middle;\n",
       "    }\n",
       "\n",
       "    .dataframe tbody tr th {\n",
       "        vertical-align: top;\n",
       "    }\n",
       "\n",
       "    .dataframe thead th {\n",
       "        text-align: right;\n",
       "    }\n",
       "</style>\n",
       "<table border=\"1\" class=\"dataframe\">\n",
       "  <thead>\n",
       "    <tr style=\"text-align: right;\">\n",
       "      <th></th>\n",
       "      <th>Order ID</th>\n",
       "      <th>Customer Name</th>\n",
       "      <th>Category</th>\n",
       "      <th>Sub Category</th>\n",
       "      <th>City</th>\n",
       "      <th>Order Date</th>\n",
       "      <th>Region</th>\n",
       "      <th>Sales</th>\n",
       "      <th>Discount</th>\n",
       "      <th>Profit</th>\n",
       "      <th>Year</th>\n",
       "      <th>Months</th>\n",
       "      <th>Weekday</th>\n",
       "    </tr>\n",
       "  </thead>\n",
       "  <tbody>\n",
       "    <tr>\n",
       "      <th>1458</th>\n",
       "      <td>OD1459</td>\n",
       "      <td>Amrish</td>\n",
       "      <td>Snacks</td>\n",
       "      <td>Noodles</td>\n",
       "      <td>Virudhunagar</td>\n",
       "      <td>2016-01-19</td>\n",
       "      <td>Central</td>\n",
       "      <td>2000</td>\n",
       "      <td>0.34</td>\n",
       "      <td>460.00</td>\n",
       "      <td>2016</td>\n",
       "      <td>January</td>\n",
       "      <td>Tuesday</td>\n",
       "    </tr>\n",
       "    <tr>\n",
       "      <th>985</th>\n",
       "      <td>OD986</td>\n",
       "      <td>Alan</td>\n",
       "      <td>Eggs, Meat &amp; Fish</td>\n",
       "      <td>Fish</td>\n",
       "      <td>Perambalur</td>\n",
       "      <td>2018-09-29</td>\n",
       "      <td>Central</td>\n",
       "      <td>2444</td>\n",
       "      <td>0.33</td>\n",
       "      <td>415.48</td>\n",
       "      <td>2018</td>\n",
       "      <td>September</td>\n",
       "      <td>Saturday</td>\n",
       "    </tr>\n",
       "    <tr>\n",
       "      <th>2840</th>\n",
       "      <td>OD2841</td>\n",
       "      <td>Sharon</td>\n",
       "      <td>Food Grains</td>\n",
       "      <td>Organic Staples</td>\n",
       "      <td>Pudukottai</td>\n",
       "      <td>2015-03-05</td>\n",
       "      <td>East</td>\n",
       "      <td>2433</td>\n",
       "      <td>0.24</td>\n",
       "      <td>608.25</td>\n",
       "      <td>2015</td>\n",
       "      <td>March</td>\n",
       "      <td>Thursday</td>\n",
       "    </tr>\n",
       "    <tr>\n",
       "      <th>1071</th>\n",
       "      <td>OD1072</td>\n",
       "      <td>Roshan</td>\n",
       "      <td>Eggs, Meat &amp; Fish</td>\n",
       "      <td>Mutton</td>\n",
       "      <td>Dindigul</td>\n",
       "      <td>2018-11-30</td>\n",
       "      <td>East</td>\n",
       "      <td>1656</td>\n",
       "      <td>0.16</td>\n",
       "      <td>629.28</td>\n",
       "      <td>2018</td>\n",
       "      <td>November</td>\n",
       "      <td>Friday</td>\n",
       "    </tr>\n",
       "    <tr>\n",
       "      <th>7539</th>\n",
       "      <td>OD7540</td>\n",
       "      <td>Vince</td>\n",
       "      <td>Food Grains</td>\n",
       "      <td>Rice</td>\n",
       "      <td>Perambalur</td>\n",
       "      <td>2015-04-29</td>\n",
       "      <td>South</td>\n",
       "      <td>1705</td>\n",
       "      <td>0.23</td>\n",
       "      <td>409.20</td>\n",
       "      <td>2015</td>\n",
       "      <td>April</td>\n",
       "      <td>Wednesday</td>\n",
       "    </tr>\n",
       "  </tbody>\n",
       "</table>\n",
       "</div>"
      ],
      "text/plain": [
       "     Order ID Customer Name           Category     Sub Category          City  \\\n",
       "1458   OD1459        Amrish             Snacks          Noodles  Virudhunagar   \n",
       "985     OD986          Alan  Eggs, Meat & Fish             Fish    Perambalur   \n",
       "2840   OD2841        Sharon        Food Grains  Organic Staples    Pudukottai   \n",
       "1071   OD1072        Roshan  Eggs, Meat & Fish           Mutton      Dindigul   \n",
       "7539   OD7540         Vince        Food Grains             Rice    Perambalur   \n",
       "\n",
       "     Order Date   Region  Sales  Discount  Profit  Year     Months    Weekday  \n",
       "1458 2016-01-19  Central   2000      0.34  460.00  2016    January    Tuesday  \n",
       "985  2018-09-29  Central   2444      0.33  415.48  2018  September   Saturday  \n",
       "2840 2015-03-05     East   2433      0.24  608.25  2015      March   Thursday  \n",
       "1071 2018-11-30     East   1656      0.16  629.28  2018   November     Friday  \n",
       "7539 2015-04-29    South   1705      0.23  409.20  2015      April  Wednesday  "
      ]
     },
     "execution_count": 9,
     "metadata": {},
     "output_type": "execute_result"
    }
   ],
   "source": [
    "df.sample(5)"
   ]
  },
  {
   "cell_type": "markdown",
   "id": "7b49bcb0",
   "metadata": {},
   "source": [
    "### Export"
   ]
  },
  {
   "cell_type": "code",
   "execution_count": 106,
   "id": "a44cc33e",
   "metadata": {},
   "outputs": [],
   "source": [
    "df.to_csv(\"Sales_data_clean.csv\")"
   ]
  },
  {
   "cell_type": "code",
   "execution_count": null,
   "id": "efd6b15b",
   "metadata": {},
   "outputs": [],
   "source": []
  }
 ],
 "metadata": {
  "kernelspec": {
   "display_name": "Python 3 (ipykernel)",
   "language": "python",
   "name": "python3"
  },
  "language_info": {
   "codemirror_mode": {
    "name": "ipython",
    "version": 3
   },
   "file_extension": ".py",
   "mimetype": "text/x-python",
   "name": "python",
   "nbconvert_exporter": "python",
   "pygments_lexer": "ipython3",
   "version": "3.10.4"
  }
 },
 "nbformat": 4,
 "nbformat_minor": 5
}
